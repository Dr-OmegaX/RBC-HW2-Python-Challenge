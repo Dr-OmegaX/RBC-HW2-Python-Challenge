{
 "cells": [
  {
   "cell_type": "code",
   "execution_count": 2,
   "metadata": {},
   "outputs": [],
   "source": [
    "# initialize imports\n",
    "from pathlib import Path\n",
    "import csv\n"
   ]
  },
  {
   "cell_type": "code",
   "execution_count": 7,
   "metadata": {},
   "outputs": [
    {
     "name": "stdout",
     "output_type": "stream",
     "text": [
      "38382578.0\n",
      "-532869.0\n",
      "2315.1176470588234\n"
     ]
    }
   ],
   "source": [
    "\"\"\"\n",
    "    Code below opens csv file into csvreader object\n",
    "\"\"\"\n",
    "\n",
    "with open(\"Resources/budget_data.csv\") as file:\n",
    "    # print(file.read()) to make sure the file is properly read in\n",
    "    csvreader = csv.reader(file)\n",
    "    header = next(csvreader)\n",
    "    i = 0\n",
    "    total = 0\n",
    "    prev_row = 0\n",
    "    change = 0\n",
    "    changes = []\n",
    "    min_change = 0\n",
    "    max_change = 0\n",
    "    avg_change = 0\n",
    "    min_change_date = None\n",
    "    max_change_date = None\n",
    "    for row in csvreader:\n",
    "\n",
    "        if i != 0: # if not in first row\n",
    "            change = prev_row - float(row[1])\n",
    "            changes.append(change)\n",
    "            if change < min_change:\n",
    "                 min_change = change\n",
    "                 min_change_date = row[0]\n",
    "            if change > max_change:\n",
    "                max_change = change\n",
    "                max_change_date = row[0]\n",
    "           \n",
    "        prev_row = float(row[1])\n",
    "        i+=1\n",
    "        total += float(row[1])\n",
    "    avg_change = sum(changes)/(i-1)\n",
    "    print(total)\n",
    "    print(change)\n",
    "    print(avg_change)\n",
    "  "
   ]
  },
  {
   "cell_type": "code",
   "execution_count": 5,
   "metadata": {},
   "outputs": [
    {
     "name": "stdout",
     "output_type": "stream",
     "text": [
      "\n",
      "Financial Analysis\n",
      "____________________________\n",
      "  Total Months: 86\n",
      "  Total: $38382578\n",
      "  Average Change: $2315.12\n",
      "  Greatest Increase in Profits:  Sep-2013 $2196167\n",
      "  Greatest Decrease in Profits:  Feb-2012 $-1926159\n",
      "  \n",
      "\n"
     ]
    }
   ],
   "source": [
    "output = f\"\"\"\n",
    "Financial Analysis\n",
    "____________________________\n",
    "  Total Months: {i}\n",
    "  Total: ${int(total)}\n",
    "  Average Change: ${round(float(avg_change),2)}\n",
    "  Greatest Increase in Profits:  {max_change_date} ${int(max_change)}\n",
    "  Greatest Decrease in Profits:  {min_change_date} ${int(min_change)}\n",
    "  \n",
    "\"\"\"\n",
    "\n",
    "print(output)"
   ]
  },
  {
   "cell_type": "code",
   "execution_count": 7,
   "metadata": {},
   "outputs": [],
   "source": [
    "# Save the Output to output.txt\n",
    "with open(\"output.txt\", \"w\") as file:\n",
    "    file.write(output)"
   ]
  }
 ],
 "metadata": {
  "kernelspec": {
   "display_name": "Python 3.7.13 ('dev')",
   "language": "python",
   "name": "python3"
  },
  "language_info": {
   "codemirror_mode": {
    "name": "ipython",
    "version": 3
   },
   "file_extension": ".py",
   "mimetype": "text/x-python",
   "name": "python",
   "nbconvert_exporter": "python",
   "pygments_lexer": "ipython3",
   "version": "3.7.13"
  },
  "orig_nbformat": 4,
  "vscode": {
   "interpreter": {
    "hash": "4a84437f3ceb8d02ee0c756ba0cf4806e5db8cbb5381b3e61f4a592a12b14723"
   }
  }
 },
 "nbformat": 4,
 "nbformat_minor": 2
}
