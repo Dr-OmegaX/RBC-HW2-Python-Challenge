{
 "cells": [
  {
   "cell_type": "code",
   "execution_count": 1,
   "metadata": {},
   "outputs": [],
   "source": [
    "# init imports\n",
    "from pathlib import Path\n",
    "import csv\n"
   ]
  },
  {
   "cell_type": "code",
   "execution_count": null,
   "metadata": {},
   "outputs": [],
   "source": [
    "\"\"\"\n",
    "    Code below opens csv file into csvreader object\n",
    "\"\"\"\n",
    "\n",
    "with open(\"PyBank/Resources/budget_data.csv\", \"r\") as file:\n",
    "    # print(file.read()) to make sure the file is properly read in\n",
    "    csvreader = csv.reader(file)\n",
    "    header = next(csvreader)\n",
    "    total_months = 0\n",
    "    sum = 0\n",
    "    for row in csvreader:\n",
    "        if i != 0: #if not in first row\n",
    "            change = prev_row - float(row[1])\n",
    "            print(f\"\")\n",
    "        total_months+=1\n",
    "        sum+=int(row[1])\n",
    "        print(row[1])\n",
    "    print(f\"Total number of months is\" + [total_months])\n",
    "    print(f\"\")"
   ]
  },
  {
   "cell_type": "code",
   "execution_count": null,
   "metadata": {},
   "outputs": [],
   "source": [
    "output = f\"\"\"\n",
    "Financial Analysis\n",
    "____________________________\n",
    "Total Months: {total_months}\n",
    "Total: "
   ]
  },
  {
   "cell_type": "code",
   "execution_count": null,
   "metadata": {},
   "outputs": [],
   "source": [
    "# Save the Output to output.txt\n",
    "with open(\"output.txt\", \"w\") as file:\n",
    "    file.write(output)"
   ]
  }
 ],
 "metadata": {
  "kernelspec": {
   "display_name": "Python 3.7.13 ('dev')",
   "language": "python",
   "name": "python3"
  },
  "language_info": {
   "codemirror_mode": {
    "name": "ipython",
    "version": 3
   },
   "file_extension": ".py",
   "mimetype": "text/x-python",
   "name": "python",
   "nbconvert_exporter": "python",
   "pygments_lexer": "ipython3",
   "version": "3.7.13"
  },
  "orig_nbformat": 4,
  "vscode": {
   "interpreter": {
    "hash": "4a84437f3ceb8d02ee0c756ba0cf4806e5db8cbb5381b3e61f4a592a12b14723"
   }
  }
 },
 "nbformat": 4,
 "nbformat_minor": 2
}
